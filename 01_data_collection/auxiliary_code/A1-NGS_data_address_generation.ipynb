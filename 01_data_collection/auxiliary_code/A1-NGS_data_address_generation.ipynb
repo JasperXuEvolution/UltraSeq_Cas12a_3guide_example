{
 "cells": [
  {
   "cell_type": "markdown",
   "metadata": {},
   "source": [
    "## 1 Functions and module"
   ]
  },
  {
   "cell_type": "code",
   "execution_count": 1,
   "metadata": {},
   "outputs": [],
   "source": [
    "import pandas as pd\n",
    "import gzip\n",
    "import glob\n",
    "import os\n",
    "import subprocess"
   ]
  },
  {
   "cell_type": "code",
   "execution_count": 2,
   "metadata": {},
   "outputs": [],
   "source": [
    "def get_ngs_dir(config_path,variable):\n",
    "    \"\"\"\n",
    "    Returns the value of NGS_DIR defined in the given config.sh file,\n",
    "    or None if it's not found or there's an error.\n",
    "    \"\"\"\n",
    "    # Run a subshell that sources config.sh and echoes $NGS_DIR\n",
    "    command = f\"bash -c 'source {config_path} && echo ${variable}'\"\n",
    "    try:\n",
    "        result = subprocess.run(\n",
    "            command, shell=True, check=True, capture_output=True, text=True\n",
    "        )\n",
    "        ngs_dir = result.stdout.strip()\n",
    "        # If NGS_DIR is not set or empty, return None\n",
    "        return ngs_dir if ngs_dir else None\n",
    "    except subprocess.CalledProcessError:\n",
    "        return None\n"
   ]
  },
  {
   "cell_type": "markdown",
   "metadata": {},
   "source": [
    "## 2 Input and output address"
   ]
  },
  {
   "cell_type": "code",
   "execution_count": 22,
   "metadata": {},
   "outputs": [],
   "source": [
    "parental_address = '/labs/mwinslow/Haiqing/Raw_data_processing/Cas12a_3guide_example'"
   ]
  },
  {
   "cell_type": "markdown",
   "metadata": {},
   "source": [
    "## 3 Load config.sh"
   ]
  },
  {
   "cell_type": "code",
   "execution_count": 27,
   "metadata": {},
   "outputs": [
    {
     "name": "stdout",
     "output_type": "stream",
     "text": [
      "NGS_DIR= /labs/mwinslow/Haiqing/NGS_Raw_data/JH_HX_Cas12a_241121\n"
     ]
    }
   ],
   "source": [
    "temp = 'NGS_DIR'\n",
    "ngs_dir = get_ngs_dir(f\"{parental_address}/config.sh\",temp)\n",
    "print(f\"{temp}= {ngs_dir}\")\n"
   ]
  },
  {
   "cell_type": "code",
   "execution_count": 28,
   "metadata": {},
   "outputs": [
    {
     "name": "stdout",
     "output_type": "stream",
     "text": [
      "PROJECT_DIR= /labs/mwinslow/Haiqing/Raw_data_processing/Cas12a_3guide_example\n"
     ]
    }
   ],
   "source": [
    "temp = 'PROJECT_DIR'\n",
    "project_dir = get_ngs_dir(f\"{parental_address}/config.sh\",temp)\n",
    "print(f\"{temp}= {project_dir}\")\n"
   ]
  },
  {
   "cell_type": "code",
   "execution_count": 29,
   "metadata": {},
   "outputs": [
    {
     "name": "stdout",
     "output_type": "stream",
     "text": [
      "/labs/mwinslow/Haiqing/NGS_Raw_data/JH_HX_Cas12a_241121/01.RawData\n",
      "/labs/mwinslow/Haiqing/Raw_data_processing/Cas12a_3guide_example/data\n"
     ]
    }
   ],
   "source": [
    "fastq_dir = ngs_dir+\"/01.RawData\"\n",
    "print(fastq_dir)\n",
    "\n",
    "output_prefix1 = project_dir+\"/data\"\n",
    "print(output_prefix1)"
   ]
  },
  {
   "cell_type": "markdown",
   "metadata": {},
   "source": [
    "## 4 Generate file with necessary raw data address"
   ]
  },
  {
   "cell_type": "code",
   "execution_count": 9,
   "metadata": {},
   "outputs": [],
   "source": [
    "# find all the fastq.gz files \n",
    "temp_pattern = '/**/*fq.gz' # When recursive is set, ** followed by a path separator matches 0 or more subdirectories.\n",
    "fastq_address_list = glob.glob(fastq_dir+temp_pattern, recursive=True)"
   ]
  },
  {
   "cell_type": "code",
   "execution_count": 10,
   "metadata": {},
   "outputs": [
    {
     "data": {
      "text/plain": [
       "['/labs/mwinslow/Haiqing/NGS_Raw_data/JH_HX_Cas12a_241121/01.RawData/LA87_18/LA87_18_CKDL240038314-1A_22HVCLLT4_L2_2.fq.gz',\n",
       " '/labs/mwinslow/Haiqing/NGS_Raw_data/JH_HX_Cas12a_241121/01.RawData/LA87_18/LA87_18_CKDL240038314-1A_22HVCLLT4_L2_1.fq.gz',\n",
       " '/labs/mwinslow/Haiqing/NGS_Raw_data/JH_HX_Cas12a_241121/01.RawData/LA87_14/LA87_14_CKDL240038314-1A_22HVCLLT4_L2_1.fq.gz',\n",
       " '/labs/mwinslow/Haiqing/NGS_Raw_data/JH_HX_Cas12a_241121/01.RawData/LA87_14/LA87_14_CKDL240038314-1A_22HVCLLT4_L2_2.fq.gz',\n",
       " '/labs/mwinslow/Haiqing/NGS_Raw_data/JH_HX_Cas12a_241121/01.RawData/LA85_07/LA85_07_CKDL240038313-1A_22HVCLLT4_L1_2.fq.gz',\n",
       " '/labs/mwinslow/Haiqing/NGS_Raw_data/JH_HX_Cas12a_241121/01.RawData/LA85_07/LA85_07_CKDL240038313-1A_22HVCLLT4_L1_1.fq.gz',\n",
       " '/labs/mwinslow/Haiqing/NGS_Raw_data/JH_HX_Cas12a_241121/01.RawData/LA87_19/LA87_19_CKDL240038314-1A_22HVCLLT4_L2_2.fq.gz',\n",
       " '/labs/mwinslow/Haiqing/NGS_Raw_data/JH_HX_Cas12a_241121/01.RawData/LA87_19/LA87_19_CKDL240038314-1A_22HVCLLT4_L2_1.fq.gz',\n",
       " '/labs/mwinslow/Haiqing/NGS_Raw_data/JH_HX_Cas12a_241121/01.RawData/LA85_21/LA85_21_CKDL240038313-1A_22HVCLLT4_L1_1.fq.gz',\n",
       " '/labs/mwinslow/Haiqing/NGS_Raw_data/JH_HX_Cas12a_241121/01.RawData/LA85_21/LA85_21_CKDL240038313-1A_22HVCLLT4_L1_2.fq.gz',\n",
       " '/labs/mwinslow/Haiqing/NGS_Raw_data/JH_HX_Cas12a_241121/01.RawData/LA87_13/LA87_13_CKDL240038314-1A_22HVCLLT4_L2_2.fq.gz',\n",
       " '/labs/mwinslow/Haiqing/NGS_Raw_data/JH_HX_Cas12a_241121/01.RawData/LA87_13/LA87_13_CKDL240038314-1A_22HVCLLT4_L2_1.fq.gz',\n",
       " '/labs/mwinslow/Haiqing/NGS_Raw_data/JH_HX_Cas12a_241121/01.RawData/LA87_25b/LA87_25b_CKDL240038314-1A_22HVCLLT4_L2_2.fq.gz',\n",
       " '/labs/mwinslow/Haiqing/NGS_Raw_data/JH_HX_Cas12a_241121/01.RawData/LA87_25b/LA87_25b_CKDL240038314-1A_22HVCLLT4_L2_1.fq.gz',\n",
       " '/labs/mwinslow/Haiqing/NGS_Raw_data/JH_HX_Cas12a_241121/01.RawData/LA85_04/LA85_04_CKDL240038313-1A_22HVCLLT4_L1_2.fq.gz',\n",
       " '/labs/mwinslow/Haiqing/NGS_Raw_data/JH_HX_Cas12a_241121/01.RawData/LA85_04/LA85_04_CKDL240038313-1A_22HVCLLT4_L1_1.fq.gz',\n",
       " '/labs/mwinslow/Haiqing/NGS_Raw_data/JH_HX_Cas12a_241121/01.RawData/LA87_07/LA87_07_CKDL240038314-1A_22HVCLLT4_L2_1.fq.gz',\n",
       " '/labs/mwinslow/Haiqing/NGS_Raw_data/JH_HX_Cas12a_241121/01.RawData/LA87_07/LA87_07_CKDL240038314-1A_22HVCLLT4_L2_2.fq.gz',\n",
       " '/labs/mwinslow/Haiqing/NGS_Raw_data/JH_HX_Cas12a_241121/01.RawData/LA85_05/LA85_05_CKDL240038313-1A_22HVCLLT4_L1_1.fq.gz',\n",
       " '/labs/mwinslow/Haiqing/NGS_Raw_data/JH_HX_Cas12a_241121/01.RawData/LA85_05/LA85_05_CKDL240038313-1A_22HVCLLT4_L1_2.fq.gz',\n",
       " '/labs/mwinslow/Haiqing/NGS_Raw_data/JH_HX_Cas12a_241121/01.RawData/LA85_09/LA85_09_CKDL240038313-1A_22HVCLLT4_L1_1.fq.gz',\n",
       " '/labs/mwinslow/Haiqing/NGS_Raw_data/JH_HX_Cas12a_241121/01.RawData/LA85_09/LA85_09_CKDL240038313-1A_22HVCLLT4_L1_2.fq.gz',\n",
       " '/labs/mwinslow/Haiqing/NGS_Raw_data/JH_HX_Cas12a_241121/01.RawData/LA87_04/LA87_04_CKDL240038314-1A_22HVCLLT4_L2_2.fq.gz',\n",
       " '/labs/mwinslow/Haiqing/NGS_Raw_data/JH_HX_Cas12a_241121/01.RawData/LA87_04/LA87_04_CKDL240038314-1A_22HVCLLT4_L2_1.fq.gz',\n",
       " '/labs/mwinslow/Haiqing/NGS_Raw_data/JH_HX_Cas12a_241121/01.RawData/LA87_25/LA87_25_CKDL240038314-1A_22HVCLLT4_L2_1.fq.gz',\n",
       " '/labs/mwinslow/Haiqing/NGS_Raw_data/JH_HX_Cas12a_241121/01.RawData/LA87_25/LA87_25_CKDL240038314-1A_22HVCLLT4_L2_2.fq.gz',\n",
       " '/labs/mwinslow/Haiqing/NGS_Raw_data/JH_HX_Cas12a_241121/01.RawData/LA87_09/LA87_09_CKDL240038314-1A_22HVCLLT4_L2_2.fq.gz',\n",
       " '/labs/mwinslow/Haiqing/NGS_Raw_data/JH_HX_Cas12a_241121/01.RawData/LA87_09/LA87_09_CKDL240038314-1A_22HVCLLT4_L2_1.fq.gz',\n",
       " '/labs/mwinslow/Haiqing/NGS_Raw_data/JH_HX_Cas12a_241121/01.RawData/LA87_06/LA87_06_CKDL240038314-1A_22HVCLLT4_L2_2.fq.gz',\n",
       " '/labs/mwinslow/Haiqing/NGS_Raw_data/JH_HX_Cas12a_241121/01.RawData/LA87_06/LA87_06_CKDL240038314-1A_22HVCLLT4_L2_1.fq.gz',\n",
       " '/labs/mwinslow/Haiqing/NGS_Raw_data/JH_HX_Cas12a_241121/01.RawData/LA87_03/LA87_03_CKDL240038314-1A_22HVCLLT4_L2_1.fq.gz',\n",
       " '/labs/mwinslow/Haiqing/NGS_Raw_data/JH_HX_Cas12a_241121/01.RawData/LA87_03/LA87_03_CKDL240038314-1A_22HVCLLT4_L2_2.fq.gz',\n",
       " '/labs/mwinslow/Haiqing/NGS_Raw_data/JH_HX_Cas12a_241121/01.RawData/LA87_16/LA87_16_CKDL240038314-1A_22HVCLLT4_L2_2.fq.gz',\n",
       " '/labs/mwinslow/Haiqing/NGS_Raw_data/JH_HX_Cas12a_241121/01.RawData/LA87_16/LA87_16_CKDL240038314-1A_22HVCLLT4_L2_1.fq.gz',\n",
       " '/labs/mwinslow/Haiqing/NGS_Raw_data/JH_HX_Cas12a_241121/01.RawData/LA87_10/LA87_10_CKDL240038314-1A_22HVCLLT4_L2_2.fq.gz',\n",
       " '/labs/mwinslow/Haiqing/NGS_Raw_data/JH_HX_Cas12a_241121/01.RawData/LA87_10/LA87_10_CKDL240038314-1A_22HVCLLT4_L2_1.fq.gz',\n",
       " '/labs/mwinslow/Haiqing/NGS_Raw_data/JH_HX_Cas12a_241121/01.RawData/LA85_06/LA85_06_CKDL240038313-1A_22HVCLLT4_L1_1.fq.gz',\n",
       " '/labs/mwinslow/Haiqing/NGS_Raw_data/JH_HX_Cas12a_241121/01.RawData/LA85_06/LA85_06_CKDL240038313-1A_22HVCLLT4_L1_2.fq.gz',\n",
       " '/labs/mwinslow/Haiqing/NGS_Raw_data/JH_HX_Cas12a_241121/01.RawData/LA87_20/LA87_20_CKDL240038314-1A_22HVCLLT4_L2_2.fq.gz',\n",
       " '/labs/mwinslow/Haiqing/NGS_Raw_data/JH_HX_Cas12a_241121/01.RawData/LA87_20/LA87_20_CKDL240038314-1A_22HVCLLT4_L2_1.fq.gz',\n",
       " '/labs/mwinslow/Haiqing/NGS_Raw_data/JH_HX_Cas12a_241121/01.RawData/LA85_18/LA85_18_CKDL240038313-1A_22HVCLLT4_L1_2.fq.gz',\n",
       " '/labs/mwinslow/Haiqing/NGS_Raw_data/JH_HX_Cas12a_241121/01.RawData/LA85_18/LA85_18_CKDL240038313-1A_22HVCLLT4_L1_1.fq.gz',\n",
       " '/labs/mwinslow/Haiqing/NGS_Raw_data/JH_HX_Cas12a_241121/01.RawData/LA85_15/LA85_15_CKDL240038313-1A_22HVCLLT4_L1_2.fq.gz',\n",
       " '/labs/mwinslow/Haiqing/NGS_Raw_data/JH_HX_Cas12a_241121/01.RawData/LA85_15/LA85_15_CKDL240038313-1A_22HVCLLT4_L1_1.fq.gz',\n",
       " '/labs/mwinslow/Haiqing/NGS_Raw_data/JH_HX_Cas12a_241121/01.RawData/LA85_20/LA85_20_CKDL240038313-1A_22HVCLLT4_L1_2.fq.gz',\n",
       " '/labs/mwinslow/Haiqing/NGS_Raw_data/JH_HX_Cas12a_241121/01.RawData/LA85_20/LA85_20_CKDL240038313-1A_22HVCLLT4_L1_1.fq.gz',\n",
       " '/labs/mwinslow/Haiqing/NGS_Raw_data/JH_HX_Cas12a_241121/01.RawData/LA85_13/LA85_13_CKDL240038313-1A_22HVCLLT4_L1_1.fq.gz',\n",
       " '/labs/mwinslow/Haiqing/NGS_Raw_data/JH_HX_Cas12a_241121/01.RawData/LA85_13/LA85_13_CKDL240038313-1A_22HVCLLT4_L1_2.fq.gz',\n",
       " '/labs/mwinslow/Haiqing/NGS_Raw_data/JH_HX_Cas12a_241121/01.RawData/LA87_12/LA87_12_CKDL240038314-1A_22HVCLLT4_L2_1.fq.gz',\n",
       " '/labs/mwinslow/Haiqing/NGS_Raw_data/JH_HX_Cas12a_241121/01.RawData/LA87_12/LA87_12_CKDL240038314-1A_22HVCLLT4_L2_2.fq.gz',\n",
       " '/labs/mwinslow/Haiqing/NGS_Raw_data/JH_HX_Cas12a_241121/01.RawData/LA85_22/LA85_22_CKDL240038313-1A_22HVCLLT4_L1_2.fq.gz',\n",
       " '/labs/mwinslow/Haiqing/NGS_Raw_data/JH_HX_Cas12a_241121/01.RawData/LA85_22/LA85_22_CKDL240038313-1A_22HVCLLT4_L1_1.fq.gz',\n",
       " '/labs/mwinslow/Haiqing/NGS_Raw_data/JH_HX_Cas12a_241121/01.RawData/LA85_01/LA85_01_CKDL240038313-1A_22HVCLLT4_L1_2.fq.gz',\n",
       " '/labs/mwinslow/Haiqing/NGS_Raw_data/JH_HX_Cas12a_241121/01.RawData/LA85_01/LA85_01_CKDL240038313-1A_22HVCLLT4_L1_1.fq.gz',\n",
       " '/labs/mwinslow/Haiqing/NGS_Raw_data/JH_HX_Cas12a_241121/01.RawData/LA85_12/LA85_12_CKDL240038313-1A_22HVCLLT4_L1_1.fq.gz',\n",
       " '/labs/mwinslow/Haiqing/NGS_Raw_data/JH_HX_Cas12a_241121/01.RawData/LA85_12/LA85_12_CKDL240038313-1A_22HVCLLT4_L1_2.fq.gz',\n",
       " '/labs/mwinslow/Haiqing/NGS_Raw_data/JH_HX_Cas12a_241121/01.RawData/LA85_16/LA85_16_CKDL240038313-1A_22HVCLLT4_L1_1.fq.gz',\n",
       " '/labs/mwinslow/Haiqing/NGS_Raw_data/JH_HX_Cas12a_241121/01.RawData/LA85_16/LA85_16_CKDL240038313-1A_22HVCLLT4_L1_2.fq.gz',\n",
       " '/labs/mwinslow/Haiqing/NGS_Raw_data/JH_HX_Cas12a_241121/01.RawData/LA85_23/LA85_23_CKDL240038313-1A_22HVCLLT4_L1_2.fq.gz',\n",
       " '/labs/mwinslow/Haiqing/NGS_Raw_data/JH_HX_Cas12a_241121/01.RawData/LA85_23/LA85_23_CKDL240038313-1A_22HVCLLT4_L1_1.fq.gz',\n",
       " '/labs/mwinslow/Haiqing/NGS_Raw_data/JH_HX_Cas12a_241121/01.RawData/LA87_05/LA87_05_CKDL240038314-1A_22HVCLLT4_L2_2.fq.gz',\n",
       " '/labs/mwinslow/Haiqing/NGS_Raw_data/JH_HX_Cas12a_241121/01.RawData/LA87_05/LA87_05_CKDL240038314-1A_22HVCLLT4_L2_1.fq.gz',\n",
       " '/labs/mwinslow/Haiqing/NGS_Raw_data/JH_HX_Cas12a_241121/01.RawData/LA87_08/LA87_08_CKDL240038314-1A_22HVCLLT4_L2_1.fq.gz',\n",
       " '/labs/mwinslow/Haiqing/NGS_Raw_data/JH_HX_Cas12a_241121/01.RawData/LA87_08/LA87_08_CKDL240038314-1A_22HVCLLT4_L2_2.fq.gz',\n",
       " '/labs/mwinslow/Haiqing/NGS_Raw_data/JH_HX_Cas12a_241121/01.RawData/LA87_17/LA87_17_CKDL240038314-1A_22HVCLLT4_L2_2.fq.gz',\n",
       " '/labs/mwinslow/Haiqing/NGS_Raw_data/JH_HX_Cas12a_241121/01.RawData/LA87_17/LA87_17_CKDL240038314-1A_22HVCLLT4_L2_1.fq.gz',\n",
       " '/labs/mwinslow/Haiqing/NGS_Raw_data/JH_HX_Cas12a_241121/01.RawData/LA85_19/LA85_19_CKDL240038313-1A_22HVCLLT4_L1_1.fq.gz',\n",
       " '/labs/mwinslow/Haiqing/NGS_Raw_data/JH_HX_Cas12a_241121/01.RawData/LA85_19/LA85_19_CKDL240038313-1A_22HVCLLT4_L1_2.fq.gz',\n",
       " '/labs/mwinslow/Haiqing/NGS_Raw_data/JH_HX_Cas12a_241121/01.RawData/LA85_14/LA85_14_CKDL240038313-1A_22HVCLLT4_L1_1.fq.gz',\n",
       " '/labs/mwinslow/Haiqing/NGS_Raw_data/JH_HX_Cas12a_241121/01.RawData/LA85_14/LA85_14_CKDL240038313-1A_22HVCLLT4_L1_2.fq.gz',\n",
       " '/labs/mwinslow/Haiqing/NGS_Raw_data/JH_HX_Cas12a_241121/01.RawData/LA85_11/LA85_11_CKDL240038313-1A_22HVCLLT4_L1_2.fq.gz',\n",
       " '/labs/mwinslow/Haiqing/NGS_Raw_data/JH_HX_Cas12a_241121/01.RawData/LA85_11/LA85_11_CKDL240038313-1A_22HVCLLT4_L1_1.fq.gz',\n",
       " '/labs/mwinslow/Haiqing/NGS_Raw_data/JH_HX_Cas12a_241121/01.RawData/LA85_24/LA85_24_CKDL240038313-1A_22HVCLLT4_L1_1.fq.gz',\n",
       " '/labs/mwinslow/Haiqing/NGS_Raw_data/JH_HX_Cas12a_241121/01.RawData/LA85_24/LA85_24_CKDL240038313-1A_22HVCLLT4_L1_2.fq.gz',\n",
       " '/labs/mwinslow/Haiqing/NGS_Raw_data/JH_HX_Cas12a_241121/01.RawData/LA87_11/LA87_11_CKDL240038314-1A_22HVCLLT4_L2_2.fq.gz',\n",
       " '/labs/mwinslow/Haiqing/NGS_Raw_data/JH_HX_Cas12a_241121/01.RawData/LA87_11/LA87_11_CKDL240038314-1A_22HVCLLT4_L2_1.fq.gz',\n",
       " '/labs/mwinslow/Haiqing/NGS_Raw_data/JH_HX_Cas12a_241121/01.RawData/LA85_10/LA85_10_CKDL240038313-1A_22HVCLLT4_L1_1.fq.gz',\n",
       " '/labs/mwinslow/Haiqing/NGS_Raw_data/JH_HX_Cas12a_241121/01.RawData/LA85_10/LA85_10_CKDL240038313-1A_22HVCLLT4_L1_2.fq.gz',\n",
       " '/labs/mwinslow/Haiqing/NGS_Raw_data/JH_HX_Cas12a_241121/01.RawData/LA85_17/LA85_17_CKDL240038313-1A_22HVCLLT4_L1_1.fq.gz',\n",
       " '/labs/mwinslow/Haiqing/NGS_Raw_data/JH_HX_Cas12a_241121/01.RawData/LA85_17/LA85_17_CKDL240038313-1A_22HVCLLT4_L1_2.fq.gz',\n",
       " '/labs/mwinslow/Haiqing/NGS_Raw_data/JH_HX_Cas12a_241121/01.RawData/LA87_02/LA87_02_CKDL240038314-1A_22HVCLLT4_L2_1.fq.gz',\n",
       " '/labs/mwinslow/Haiqing/NGS_Raw_data/JH_HX_Cas12a_241121/01.RawData/LA87_02/LA87_02_CKDL240038314-1A_22HVCLLT4_L2_2.fq.gz',\n",
       " '/labs/mwinslow/Haiqing/NGS_Raw_data/JH_HX_Cas12a_241121/01.RawData/LA85_03/LA85_03_CKDL240038313-1A_22HVCLLT4_L1_1.fq.gz',\n",
       " '/labs/mwinslow/Haiqing/NGS_Raw_data/JH_HX_Cas12a_241121/01.RawData/LA85_03/LA85_03_CKDL240038313-1A_22HVCLLT4_L1_2.fq.gz',\n",
       " '/labs/mwinslow/Haiqing/NGS_Raw_data/JH_HX_Cas12a_241121/01.RawData/LA87_15/LA87_15_CKDL240038314-1A_22HVCLLT4_L2_1.fq.gz',\n",
       " '/labs/mwinslow/Haiqing/NGS_Raw_data/JH_HX_Cas12a_241121/01.RawData/LA87_15/LA87_15_CKDL240038314-1A_22HVCLLT4_L2_2.fq.gz',\n",
       " '/labs/mwinslow/Haiqing/NGS_Raw_data/JH_HX_Cas12a_241121/01.RawData/LA85_02/LA85_02_CKDL240038313-1A_22HVCLLT4_L1_2.fq.gz',\n",
       " '/labs/mwinslow/Haiqing/NGS_Raw_data/JH_HX_Cas12a_241121/01.RawData/LA85_02/LA85_02_CKDL240038313-1A_22HVCLLT4_L1_1.fq.gz',\n",
       " '/labs/mwinslow/Haiqing/NGS_Raw_data/JH_HX_Cas12a_241121/01.RawData/LA85_08/LA85_08_CKDL240038313-1A_22HVCLLT4_L1_2.fq.gz',\n",
       " '/labs/mwinslow/Haiqing/NGS_Raw_data/JH_HX_Cas12a_241121/01.RawData/LA85_08/LA85_08_CKDL240038313-1A_22HVCLLT4_L1_1.fq.gz',\n",
       " '/labs/mwinslow/Haiqing/NGS_Raw_data/JH_HX_Cas12a_241121/01.RawData/LA87_01/LA87_01_CKDL240038314-1A_22HVCLLT4_L2_2.fq.gz',\n",
       " '/labs/mwinslow/Haiqing/NGS_Raw_data/JH_HX_Cas12a_241121/01.RawData/LA87_01/LA87_01_CKDL240038314-1A_22HVCLLT4_L2_1.fq.gz']"
      ]
     },
     "execution_count": 10,
     "metadata": {},
     "output_type": "execute_result"
    }
   ],
   "source": [
    "fastq_address_list"
   ]
  },
  {
   "cell_type": "code",
   "execution_count": 11,
   "metadata": {},
   "outputs": [],
   "source": [
    "read1_address = [x for x in fastq_address_list if '_1.fq' in x]\n",
    "read2_address = [x for x in fastq_address_list if '_2.fq' in x]"
   ]
  },
  {
   "cell_type": "code",
   "execution_count": 12,
   "metadata": {},
   "outputs": [],
   "source": [
    "temp_dic1 = {}\n",
    "for x in read1_address:\n",
    "    temp = x.split('/')[-2]\n",
    "    if temp in temp_dic1.keys():\n",
    "        temp_dic1[temp].append(x)\n",
    "    else:\n",
    "        temp_dic1[temp] = [x]"
   ]
  },
  {
   "cell_type": "code",
   "execution_count": 13,
   "metadata": {},
   "outputs": [],
   "source": [
    "temp_dic2 = {}\n",
    "for x in read2_address:\n",
    "    temp = x.split('/')[-2]\n",
    "    if temp in temp_dic2.keys():\n",
    "        temp_dic2[temp].append(x)\n",
    "    else:\n",
    "        temp_dic2[temp] = [x]"
   ]
  },
  {
   "cell_type": "code",
   "execution_count": 14,
   "metadata": {},
   "outputs": [],
   "source": [
    "read1_df = pd.DataFrame({'Sample_ID':temp_dic1.keys()})\n",
    "read2_df = pd.DataFrame({'Sample_ID':temp_dic2.keys()})"
   ]
  },
  {
   "cell_type": "code",
   "execution_count": 15,
   "metadata": {},
   "outputs": [],
   "source": [
    "read1_df['Address'] = [' '.join(sorted(x)) for x in temp_dic1.values()]\n",
    "read2_df['Address'] = [' '.join(sorted(x)) for x in temp_dic2.values()]"
   ]
  },
  {
   "cell_type": "code",
   "execution_count": 16,
   "metadata": {},
   "outputs": [],
   "source": [
    "read_df = pd.merge(read1_df,read2_df, on ='Sample_ID',\n",
    "                   how ='outer', suffixes = ('_r1', '_r2'))"
   ]
  },
  {
   "cell_type": "code",
   "execution_count": 17,
   "metadata": {},
   "outputs": [
    {
     "data": {
      "text/html": [
       "<div>\n",
       "<style scoped>\n",
       "    .dataframe tbody tr th:only-of-type {\n",
       "        vertical-align: middle;\n",
       "    }\n",
       "\n",
       "    .dataframe tbody tr th {\n",
       "        vertical-align: top;\n",
       "    }\n",
       "\n",
       "    .dataframe thead th {\n",
       "        text-align: right;\n",
       "    }\n",
       "</style>\n",
       "<table border=\"1\" class=\"dataframe\">\n",
       "  <thead>\n",
       "    <tr style=\"text-align: right;\">\n",
       "      <th></th>\n",
       "      <th>Sample_ID</th>\n",
       "      <th>Address_r1</th>\n",
       "      <th>Address_r2</th>\n",
       "    </tr>\n",
       "  </thead>\n",
       "  <tbody>\n",
       "    <tr>\n",
       "      <th>0</th>\n",
       "      <td>LA87_18</td>\n",
       "      <td>/labs/mwinslow/Haiqing/NGS_Raw_data/JH_HX_Cas1...</td>\n",
       "      <td>/labs/mwinslow/Haiqing/NGS_Raw_data/JH_HX_Cas1...</td>\n",
       "    </tr>\n",
       "    <tr>\n",
       "      <th>1</th>\n",
       "      <td>LA87_14</td>\n",
       "      <td>/labs/mwinslow/Haiqing/NGS_Raw_data/JH_HX_Cas1...</td>\n",
       "      <td>/labs/mwinslow/Haiqing/NGS_Raw_data/JH_HX_Cas1...</td>\n",
       "    </tr>\n",
       "    <tr>\n",
       "      <th>2</th>\n",
       "      <td>LA85_07</td>\n",
       "      <td>/labs/mwinslow/Haiqing/NGS_Raw_data/JH_HX_Cas1...</td>\n",
       "      <td>/labs/mwinslow/Haiqing/NGS_Raw_data/JH_HX_Cas1...</td>\n",
       "    </tr>\n",
       "    <tr>\n",
       "      <th>3</th>\n",
       "      <td>LA87_19</td>\n",
       "      <td>/labs/mwinslow/Haiqing/NGS_Raw_data/JH_HX_Cas1...</td>\n",
       "      <td>/labs/mwinslow/Haiqing/NGS_Raw_data/JH_HX_Cas1...</td>\n",
       "    </tr>\n",
       "    <tr>\n",
       "      <th>4</th>\n",
       "      <td>LA85_21</td>\n",
       "      <td>/labs/mwinslow/Haiqing/NGS_Raw_data/JH_HX_Cas1...</td>\n",
       "      <td>/labs/mwinslow/Haiqing/NGS_Raw_data/JH_HX_Cas1...</td>\n",
       "    </tr>\n",
       "  </tbody>\n",
       "</table>\n",
       "</div>"
      ],
      "text/plain": [
       "  Sample_ID                                         Address_r1  \\\n",
       "0   LA87_18  /labs/mwinslow/Haiqing/NGS_Raw_data/JH_HX_Cas1...   \n",
       "1   LA87_14  /labs/mwinslow/Haiqing/NGS_Raw_data/JH_HX_Cas1...   \n",
       "2   LA85_07  /labs/mwinslow/Haiqing/NGS_Raw_data/JH_HX_Cas1...   \n",
       "3   LA87_19  /labs/mwinslow/Haiqing/NGS_Raw_data/JH_HX_Cas1...   \n",
       "4   LA85_21  /labs/mwinslow/Haiqing/NGS_Raw_data/JH_HX_Cas1...   \n",
       "\n",
       "                                          Address_r2  \n",
       "0  /labs/mwinslow/Haiqing/NGS_Raw_data/JH_HX_Cas1...  \n",
       "1  /labs/mwinslow/Haiqing/NGS_Raw_data/JH_HX_Cas1...  \n",
       "2  /labs/mwinslow/Haiqing/NGS_Raw_data/JH_HX_Cas1...  \n",
       "3  /labs/mwinslow/Haiqing/NGS_Raw_data/JH_HX_Cas1...  \n",
       "4  /labs/mwinslow/Haiqing/NGS_Raw_data/JH_HX_Cas1...  "
      ]
     },
     "execution_count": 17,
     "metadata": {},
     "output_type": "execute_result"
    }
   ],
   "source": [
    "read_df.head()"
   ]
  },
  {
   "cell_type": "code",
   "execution_count": 34,
   "metadata": {},
   "outputs": [],
   "source": [
    "# filter data\n",
    "read_df = read_df[read_df.Sample_ID.str.contains('LA87')]"
   ]
  },
  {
   "cell_type": "markdown",
   "metadata": {},
   "source": [
    "## 5 Output data"
   ]
  },
  {
   "cell_type": "code",
   "execution_count": 31,
   "metadata": {},
   "outputs": [],
   "source": [
    "temp_o = output_prefix1 +\"/NGS_address\""
   ]
  },
  {
   "cell_type": "code",
   "execution_count": 33,
   "metadata": {},
   "outputs": [],
   "source": [
    "file_a = open(temp_o, 'w')\n",
    "for index, row in read_df.iterrows():\n",
    "    t1 = row['Address_r1']\n",
    "    t2 = row['Address_r2']\n",
    "    t3 = row['Sample_ID']\n",
    "    temp_s = ','.join([t1,t2,t3])+'\\n'\n",
    "    file_a.write(temp_s)\n",
    "file_a.close()"
   ]
  },
  {
   "cell_type": "code",
   "execution_count": null,
   "metadata": {},
   "outputs": [],
   "source": []
  }
 ],
 "metadata": {
  "kernelspec": {
   "display_name": "UltraSeq",
   "language": "python",
   "name": "python3"
  },
  "language_info": {
   "codemirror_mode": {
    "name": "ipython",
    "version": 3
   },
   "file_extension": ".py",
   "mimetype": "text/x-python",
   "name": "python",
   "nbconvert_exporter": "python",
   "pygments_lexer": "ipython3",
   "version": "3.10.6"
  }
 },
 "nbformat": 4,
 "nbformat_minor": 2
}
